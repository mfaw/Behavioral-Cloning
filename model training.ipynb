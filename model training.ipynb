{
 "cells": [
  {
   "cell_type": "markdown",
   "id": "3529c9fa",
   "metadata": {},
   "source": [
    "# Behavioral Cloning\n",
    "## CSE 485 - Deep Learning\n",
    "### Done By Hazem Ayman Mohamed 18P2696 and Mariam Mahmoud Fawzi 18P1092"
   ]
  },
  {
   "cell_type": "markdown",
   "id": "a1f170f3",
   "metadata": {},
   "source": [
    "### Objective"
   ]
  },
  {
   "cell_type": "markdown",
   "id": "927fbcd7",
   "metadata": {},
   "source": [
    "In this project, a deep neural network was trained to steer a car in a game simulator autonomously. Data is collected by driving the car in the track manually and training the neural network using this data to predict the steering angle of the car during the driving phase."
   ]
  },
  {
   "cell_type": "markdown",
   "id": "97a01964",
   "metadata": {},
   "source": [
    "### Imported Libraries"
   ]
  },
  {
   "cell_type": "code",
   "execution_count": 1,
   "id": "c54ed90a",
   "metadata": {},
   "outputs": [],
   "source": [
    "import matplotlib.pyplot as plt\n",
    "import numpy as np\n",
    "import pandas as pd\n",
    "import cv2\n",
    "from keras.models import Sequential, model_from_json\n",
    "from keras.layers import Conv2D , Dense, Dropout, Flatten, Lambda, ELU, MaxPooling2D , ReLU , MaxPool2D\n",
    "from keras.regularizers import l2\n",
    "from keras.callbacks import ModelCheckpoint, EarlyStopping, TensorBoard\n",
    "from tensorflow.keras.optimizers import Adam\n",
    "\n",
    "from data_preprocessing import * \n",
    "%load_ext tensorboard"
   ]
  },
  {
   "cell_type": "markdown",
   "id": "cf30612d",
   "metadata": {},
   "source": [
    "### Reading csv file"
   ]
  },
  {
   "cell_type": "code",
   "execution_count": null,
   "id": "889b80d0",
   "metadata": {},
   "outputs": [],
   "source": [
    "Csvfile = 'data/data_3/driving_log.csv'\n",
    "imagesDIR = 'data/data'"
   ]
  },
  {
   "cell_type": "markdown",
   "id": "eb90aaa5",
   "metadata": {},
   "source": [
    "### Data Preprocessing and Augmentation"
   ]
  },
  {
   "cell_type": "code",
   "execution_count": 2,
   "id": "dfff3708",
   "metadata": {
    "scrolled": true
   },
   "outputs": [
    {
     "data": {
      "image/png": "[encoded data removed]",
      "text/plain": [
       "<Figure size 432x288 with 1 Axes>"
      ]
     },
     "metadata": {
      "needs_background": "light"
     },
     "output_type": "display_data"
    }
   ],
   "source": [
    "dataset = preprocessing(Csvfile , imagesDIR)\n",
    "\n",
    "## Histogram of the steering angle"
   ]
  },
  {
   "cell_type": "markdown",
   "id": "7bc3229f",
   "metadata": {},
   "source": [
    "**Removing the largest bin (bins=1)**"
   ]
  },
  {
   "cell_type": "code",
   "execution_count": 3,
   "id": "ccc0a38b",
   "metadata": {},
   "outputs": [
    {
     "name": "stdout",
     "output_type": "stream",
     "text": [
      "20499\n",
      "19949\n"
     ]
    },
    {
     "data": {
      "image/png": "[encoded data removed]",
      "text/plain": [
       "<Figure size 432x288 with 1 Axes>"
      ]
     },
     "metadata": {
      "needs_background": "light"
     },
     "output_type": "display_data"
    }
   ],
   "source": [
    "dataset.clearBins(bins = 1)"
   ]
  },
  {
   "cell_type": "code",
   "execution_count": 4,
   "id": "c23f7a1c",
   "metadata": {},
   "outputs": [
    {
     "data": {
      "image/png": "[encoded data removed]",
      "text/plain": [
       "<Figure size 432x288 with 1 Axes>"
      ]
     },
     "metadata": {
      "needs_background": "light"
     },
     "output_type": "display_data"
    }
   ],
   "source": [
    "dataset.showHistogram()"
   ]
  },
  {
   "cell_type": "markdown",
   "id": "988e9073",
   "metadata": {},
   "source": [
    "**Subsampling the data**"
   ]
  },
  {
   "cell_type": "code",
   "execution_count": 5,
   "id": "c2c3f2ba",
   "metadata": {},
   "outputs": [
    {
     "name": "stdout",
     "output_type": "stream",
     "text": [
      "390 19949 0.01954985212291343\n",
      "19559\n"
     ]
    }
   ],
   "source": [
    "dataset.subsampling()"
   ]
  },
  {
   "cell_type": "markdown",
   "id": "11d1f7de",
   "metadata": {},
   "source": [
    "**Generating the batch**"
   ]
  },
  {
   "cell_type": "code",
   "execution_count": 6,
   "id": "e6561ee1",
   "metadata": {
    "scrolled": false
   },
   "outputs": [],
   "source": [
    "## Batch size = 2000\n",
    "DataGenerator = dataset.Generator(2000)"
   ]
  },
  {
   "cell_type": "code",
   "execution_count": 7,
   "id": "bd029550",
   "metadata": {},
   "outputs": [
    {
     "name": "stdout",
     "output_type": "stream",
     "text": [
      "19559\n"
     ]
    }
   ],
   "source": [
    "y = next(DataGenerator)"
   ]
  },
  {
   "cell_type": "markdown",
   "id": "f46b64da",
   "metadata": {},
   "source": [
    "**Histogram of final data distribution**"
   ]
  },
  {
   "cell_type": "code",
   "execution_count": 8,
   "id": "6597a1d0",
   "metadata": {},
   "outputs": [
    {
     "data": {
      "image/png": "[encoded data removed]",
      "text/plain": [
       "<Figure size 432x288 with 1 Axes>"
      ]
     },
     "metadata": {
      "needs_background": "light"
     },
     "output_type": "display_data"
    }
   ],
   "source": [
    "n, _, _ = plt.hist(y[1], 100, facecolor='green')\n",
    "plt.show()"
   ]
  },
  {
   "cell_type": "markdown",
   "id": "27c6575a",
   "metadata": {},
   "source": [
    "### Model Architecture"
   ]
  },
  {
   "cell_type": "markdown",
   "id": "412f5de5",
   "metadata": {},
   "source": [
    "Model architecture used was based on the Nvidia paper **\"End to End Learning for Self-Driving Cars\"**.\n",
    "\n",
    "Source: https://arxiv.org/pdf/1604.07316v1.pdf\n",
    "\n",
    "The architecture consists of a normalization layer, 5 convolutional layers, and 3 fully connected layers. The model was built using tensorflow and keras. \n",
    "\n",
    "While training the model we tried an ELU activation function and a ReLU activation function, ReLU gave better results.\n",
    "\n",
    "We also tried batch normalization layer instead of dropout but it didn't give better results. \n"
   ]
  },
  {
   "cell_type": "code",
   "execution_count": 9,
   "id": "5538211a",
   "metadata": {},
   "outputs": [],
   "source": [
    "import tensorflow as tf\n",
    "from tensorflow.keras.layers import BatchNormalization\n",
    "def create_model():\n",
    "    ch, row, col = 3, 64, 64  # camera format\n",
    "    INIT='glorot_uniform' # 'he_normal', glorot_uniform\n",
    "    keep_prob = 0.2\n",
    "    reg_val = 0.01\n",
    "    \n",
    "    model = Sequential()\n",
    "    #normalization layer\n",
    "    model.add(Lambda(lambda x: x/127.5 - 1.,\n",
    "            input_shape=(row, col, ch),\n",
    "            output_shape=(row, col, ch)))\n",
    "    # first 3 convolutional -> kernel size 5x5 and stride 2x2 with no padding\n",
    "    # the model has a drop out layer with probability 0.2 in each state and a ReLU activation function\n",
    "    model.add(Conv2D(24, 5, 2,  padding=\"valid\", kernel_initializer=INIT, kernel_regularizer=l2(reg_val)))\n",
    "    W_regularizer=l2(reg_val)\n",
    "#     model.add(BatchNormalization())\n",
    "    model.add(ReLU())\n",
    "    model.add(Dropout(keep_prob))\n",
    "\n",
    "    model.add(Conv2D(36, 5, 2 ,padding=\"valid\", kernel_initializer=INIT))\n",
    "#     model.add(BatchNormalization())\n",
    "    model.add(ReLU())\n",
    "    model.add(Dropout(keep_prob))\n",
    "    \n",
    "    model.add(Conv2D(48, 5, 2 , padding=\"valid\", kernel_initializer=INIT))\n",
    "#     model.add(BatchNormalization())\n",
    "    model.add(ReLU())\n",
    "    model.add(Dropout(keep_prob))\n",
    "\n",
    "    # last 2 convolutional layers -> kernel size 3x3 and no stride and no padding\n",
    "    model.add(Conv2D(64, 3, 1, kernel_initializer=INIT))\n",
    "#     model.add(BatchNormalization())\n",
    "    model.add(ReLU())\n",
    "    model.add(Dropout(keep_prob))\n",
    "\n",
    "    model.add(Conv2D(64, 3, 1, kernel_initializer=INIT))\n",
    "#     model.add(BatchNormalization())\n",
    "    model.add(ReLU())\n",
    "    model.add(Dropout(keep_prob))\n",
    "    \n",
    "    # 3 fully connected layers\n",
    "    model.add(Flatten())\n",
    "    model.add(Dropout(0.2))\n",
    "    model.add(Dense(100))\n",
    "    model.add(ReLU())\n",
    "    model.add(Dropout(0.2))\n",
    "    \n",
    "    model.add(Dense(50))\n",
    "    model.add(ReLU())\n",
    "    model.add(Dropout(0.2))\n",
    "    \n",
    "    model.add(Dense(10))\n",
    "    model.add(ReLU())\n",
    "    \n",
    "    model.add(Dense(1))\n",
    "    \n",
    "\n",
    "    \n",
    "    return model"
   ]
  },
  {
   "cell_type": "code",
   "execution_count": 10,
   "id": "7639cda0",
   "metadata": {},
   "outputs": [
    {
     "name": "stdout",
     "output_type": "stream",
     "text": [
      "Model: \"sequential\"\n",
      "_________________________________________________________________\n",
      " Layer (type)                Output Shape              Param #   \n",
      "=================================================================\n",
      " lambda (Lambda)             (None, 64, 64, 3)         0         \n",
      "                                                                 \n",
      " conv2d (Conv2D)             (None, 30, 30, 24)        1824      \n",
      "                                                                 \n",
      " re_lu (ReLU)                (None, 30, 30, 24)        0         \n",
      "                                                                 \n",
      " dropout (Dropout)           (None, 30, 30, 24)        0         \n",
      "                                                                 \n",
      " conv2d_1 (Conv2D)           (None, 13, 13, 36)        21636     \n",
      "                                                                 \n",
      " re_lu_1 (ReLU)              (None, 13, 13, 36)        0         \n",
      "                                                                 \n",
      " dropout_1 (Dropout)         (None, 13, 13, 36)        0         \n",
      "                                                                 \n",
      " conv2d_2 (Conv2D)           (None, 5, 5, 48)          43248     \n",
      "                                                                 \n",
      " re_lu_2 (ReLU)              (None, 5, 5, 48)          0         \n",
      "                                                                 \n",
      " dropout_2 (Dropout)         (None, 5, 5, 48)          0         \n",
      "                                                                 \n",
      " conv2d_3 (Conv2D)           (None, 3, 3, 64)          27712     \n",
      "                                                                 \n",
      " re_lu_3 (ReLU)              (None, 3, 3, 64)          0         \n",
      "                                                                 \n",
      " dropout_3 (Dropout)         (None, 3, 3, 64)          0         \n",
      "                                                                 \n",
      " conv2d_4 (Conv2D)           (None, 1, 1, 64)          36928     \n",
      "                                                                 \n",
      " re_lu_4 (ReLU)              (None, 1, 1, 64)          0         \n",
      "                                                                 \n",
      " dropout_4 (Dropout)         (None, 1, 1, 64)          0         \n",
      "                                                                 \n",
      " flatten (Flatten)           (None, 64)                0         \n",
      "                                                                 \n",
      " dropout_5 (Dropout)         (None, 64)                0         \n",
      "                                                                 \n",
      " dense (Dense)               (None, 100)               6500      \n",
      "                                                                 \n",
      " re_lu_5 (ReLU)              (None, 100)               0         \n",
      "                                                                 \n",
      " dropout_6 (Dropout)         (None, 100)               0         \n",
      "                                                                 \n",
      " dense_1 (Dense)             (None, 50)                5050      \n",
      "                                                                 \n",
      " re_lu_6 (ReLU)              (None, 50)                0         \n",
      "                                                                 \n",
      " dropout_7 (Dropout)         (None, 50)                0         \n",
      "                                                                 \n",
      " dense_2 (Dense)             (None, 10)                510       \n",
      "                                                                 \n",
      " re_lu_7 (ReLU)              (None, 10)                0         \n",
      "                                                                 \n",
      " dense_3 (Dense)             (None, 1)                 11        \n",
      "                                                                 \n",
      "=================================================================\n",
      "Total params: 143,419\n",
      "Trainable params: 143,419\n",
      "Non-trainable params: 0\n",
      "_________________________________________________________________\n"
     ]
    }
   ],
   "source": [
    "model = create_model()\n",
    "model.summary()"
   ]
  },
  {
   "cell_type": "markdown",
   "id": "9d277edc",
   "metadata": {},
   "source": [
    "**Updating weights by Adam Optimizer**"
   ]
  },
  {
   "cell_type": "code",
   "execution_count": 11,
   "id": "3d793285",
   "metadata": {},
   "outputs": [],
   "source": [
    "adam = tf.keras.optimizers.Adam(learning_rate=1e-3, beta_1=0.9, beta_2=0.999, epsilon=1e-08, decay=0.0)\n",
    "model.compile(optimizer=adam, loss=\"mse\") # , metrics=['accuracy']"
   ]
  },
  {
   "cell_type": "code",
   "execution_count": 18,
   "id": "4a43529e",
   "metadata": {},
   "outputs": [],
   "source": [
    "early_stop = EarlyStopping(monitor='val_loss', patience=6,verbose=0, mode='min')\n",
    "checkpoint = ModelCheckpoint('checkpoints_2/'+'model'+'-{epoch:02d}-{val_loss:.4f}',  monitor='val_loss'\n",
    "                             ,verbose=0, save_best_only=True, \n",
    "                             save_weights_only=False, mode='auto')"
   ]
  },
  {
   "cell_type": "markdown",
   "id": "ee993cbd",
   "metadata": {},
   "source": [
    "The batch size of both the training data and validation size is 256 image. We are not really worried about overfitting in our problem therefore the training data and the validation data are not 2 separate datasets."
   ]
  },
  {
   "cell_type": "code",
   "execution_count": 19,
   "id": "2a3cddb4",
   "metadata": {},
   "outputs": [],
   "source": [
    "my_samples_gen = dataset.Generator(batchSize=256)\n",
    "validation_batch = dataset.Generator(batchSize=256)\n",
    "# we train the model for 30 epochs\n",
    "EPOCHS = 30"
   ]
  },
  {
   "cell_type": "code",
   "execution_count": 20,
   "id": "734a50c4",
   "metadata": {},
   "outputs": [],
   "source": [
    "# try:\n",
    "#     model.load_weights('checkpoints_2/model-07-0.0630')\n",
    "    \n",
    "# except IOError:\n",
    "#     print ('no previous model found....\\n')"
   ]
  },
  {
   "cell_type": "code",
   "execution_count": 21,
   "id": "a0c00c27",
   "metadata": {},
   "outputs": [],
   "source": [
    "import datetime\n",
    "log_dir = \"logs/fit/\" + datetime.datetime.now().strftime(\"%Y%m%d-%H%M%S\")\n",
    "tensorboard_callback = tf.keras.callbacks.TensorBoard(log_dir=log_dir, histogram_freq=1)"
   ]
  },
  {
   "cell_type": "code",
   "execution_count": null,
   "id": "38a02adb",
   "metadata": {
    "scrolled": true
   },
   "outputs": [
    {
     "name": "stdout",
     "output_type": "stream",
     "text": [
      "19559\n",
      "Epoch 1/30\n",
      "107/300 [=========>....................] - ETA: 2:57 - loss: 0.0703"
     ]
    }
   ],
   "source": [
    "## model is trained for 30 epochs with 100 step per epoch\n",
    "model.fit(\n",
    "                my_samples_gen,\n",
    "                steps_per_epoch=300,\n",
    "                epochs=EPOCHS,\n",
    "                validation_data=validation_batch,\n",
    "                validation_steps =5 ,\n",
    "                verbose=1,\n",
    "                callbacks=[early_stop, checkpoint,tensorboard_callback]\n",
    "            )"
   ]
  },
  {
   "cell_type": "code",
   "execution_count": null,
   "id": "8ac2a8ca",
   "metadata": {},
   "outputs": [],
   "source": [
    "## saving the model\n",
    "model.save('model'+'.h5', True)\n",
    "%tensorboard --logdir logs/fit"
   ]
  },
  {
   "cell_type": "code",
   "execution_count": null,
   "id": "b100cfd7",
   "metadata": {},
   "outputs": [],
   "source": [
    "# model.load_weights('checkpoints_2/model-07-0.0630')"
   ]
  }
 ],
 "metadata": {
  "kernelspec": {
   "display_name": "Python 3",
   "language": "python",
   "name": "python3"
  },
  "language_info": {
   "codemirror_mode": {
    "name": "ipython",
    "version": 3
   },
   "file_extension": ".py",
   "mimetype": "text/x-python",
   "name": "python",
   "nbconvert_exporter": "python",
   "pygments_lexer": "ipython3",
   "version": "3.8.8"
  }
 },
 "nbformat": 4,
 "nbformat_minor": 5
}
